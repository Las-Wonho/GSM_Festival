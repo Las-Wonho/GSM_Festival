{
 "cells": [
  {
   "cell_type": "code",
   "execution_count": 1,
   "metadata": {
    "collapsed": true
   },
   "outputs": [],
   "source": [
    "import flask"
   ]
  },
  {
   "cell_type": "code",
   "execution_count": 2,
   "metadata": {
    "collapsed": true
   },
   "outputs": [],
   "source": [
    "a=flask.Flask(__name__)"
   ]
  },
  {
   "cell_type": "code",
   "execution_count": 5,
   "metadata": {
    "collapsed": true
   },
   "outputs": [],
   "source": [
    "@a.route\n",
    "def las():\n",
    "    return \"LAS\""
   ]
  },
  {
   "cell_type": "code",
   "execution_count": 13,
   "metadata": {},
   "outputs": [
    {
     "name": "stderr",
     "output_type": "stream",
     "text": [
      " * Running on http://127.0.0.1:5000/ (Press CTRL+C to quit)\n",
      "127.0.0.1 - - [20/Nov/2017 09:36:20] \"GET /main HTTP/1.1\" 200 -\n",
      "[2017-11-20 09:36:26,778] ERROR in app: Exception on /main/asdf [GET]\n",
      "Traceback (most recent call last):\n",
      "  File \"D:\\AN\\lib\\site-packages\\flask\\app.py\", line 1982, in wsgi_app\n",
      "    response = self.full_dispatch_request()\n",
      "  File \"D:\\AN\\lib\\site-packages\\flask\\app.py\", line 1614, in full_dispatch_request\n",
      "    rv = self.handle_user_exception(e)\n",
      "  File \"D:\\AN\\lib\\site-packages\\flask\\app.py\", line 1517, in handle_user_exception\n",
      "    reraise(exc_type, exc_value, tb)\n",
      "  File \"D:\\AN\\lib\\site-packages\\flask\\_compat.py\", line 33, in reraise\n",
      "    raise value\n",
      "  File \"D:\\AN\\lib\\site-packages\\flask\\app.py\", line 1612, in full_dispatch_request\n",
      "    rv = self.dispatch_request()\n",
      "  File \"D:\\AN\\lib\\site-packages\\flask\\app.py\", line 1598, in dispatch_request\n",
      "    return self.view_functions[rule.endpoint](**req.view_args)\n",
      "TypeError: d() got an unexpected keyword argument 'sd'\n",
      "127.0.0.1 - - [20/Nov/2017 09:36:26] \"GET /main/asdf HTTP/1.1\" 500 -\n",
      "[2017-11-20 09:36:30,795] ERROR in app: Exception on /main/asdf [GET]\n",
      "Traceback (most recent call last):\n",
      "  File \"D:\\AN\\lib\\site-packages\\flask\\app.py\", line 1982, in wsgi_app\n",
      "    response = self.full_dispatch_request()\n",
      "  File \"D:\\AN\\lib\\site-packages\\flask\\app.py\", line 1614, in full_dispatch_request\n",
      "    rv = self.handle_user_exception(e)\n",
      "  File \"D:\\AN\\lib\\site-packages\\flask\\app.py\", line 1517, in handle_user_exception\n",
      "    reraise(exc_type, exc_value, tb)\n",
      "  File \"D:\\AN\\lib\\site-packages\\flask\\_compat.py\", line 33, in reraise\n",
      "    raise value\n",
      "  File \"D:\\AN\\lib\\site-packages\\flask\\app.py\", line 1612, in full_dispatch_request\n",
      "    rv = self.dispatch_request()\n",
      "  File \"D:\\AN\\lib\\site-packages\\flask\\app.py\", line 1598, in dispatch_request\n",
      "    return self.view_functions[rule.endpoint](**req.view_args)\n",
      "TypeError: d() got an unexpected keyword argument 'sd'\n",
      "127.0.0.1 - - [20/Nov/2017 09:36:30] \"GET /main/asdf HTTP/1.1\" 500 -\n",
      "[2017-11-20 09:36:31,476] ERROR in app: Exception on /main/asdf [GET]\n",
      "Traceback (most recent call last):\n",
      "  File \"D:\\AN\\lib\\site-packages\\flask\\app.py\", line 1982, in wsgi_app\n",
      "    response = self.full_dispatch_request()\n",
      "  File \"D:\\AN\\lib\\site-packages\\flask\\app.py\", line 1614, in full_dispatch_request\n",
      "    rv = self.handle_user_exception(e)\n",
      "  File \"D:\\AN\\lib\\site-packages\\flask\\app.py\", line 1517, in handle_user_exception\n",
      "    reraise(exc_type, exc_value, tb)\n",
      "  File \"D:\\AN\\lib\\site-packages\\flask\\_compat.py\", line 33, in reraise\n",
      "    raise value\n",
      "  File \"D:\\AN\\lib\\site-packages\\flask\\app.py\", line 1612, in full_dispatch_request\n",
      "    rv = self.dispatch_request()\n",
      "  File \"D:\\AN\\lib\\site-packages\\flask\\app.py\", line 1598, in dispatch_request\n",
      "    return self.view_functions[rule.endpoint](**req.view_args)\n",
      "TypeError: d() got an unexpected keyword argument 'sd'\n",
      "127.0.0.1 - - [20/Nov/2017 09:36:31] \"GET /main/asdf HTTP/1.1\" 500 -\n",
      "[2017-11-20 09:36:31,785] ERROR in app: Exception on /main/asdf [GET]\n",
      "Traceback (most recent call last):\n",
      "  File \"D:\\AN\\lib\\site-packages\\flask\\app.py\", line 1982, in wsgi_app\n",
      "    response = self.full_dispatch_request()\n",
      "  File \"D:\\AN\\lib\\site-packages\\flask\\app.py\", line 1614, in full_dispatch_request\n",
      "    rv = self.handle_user_exception(e)\n",
      "  File \"D:\\AN\\lib\\site-packages\\flask\\app.py\", line 1517, in handle_user_exception\n",
      "    reraise(exc_type, exc_value, tb)\n",
      "  File \"D:\\AN\\lib\\site-packages\\flask\\_compat.py\", line 33, in reraise\n",
      "    raise value\n",
      "  File \"D:\\AN\\lib\\site-packages\\flask\\app.py\", line 1612, in full_dispatch_request\n",
      "    rv = self.dispatch_request()\n",
      "  File \"D:\\AN\\lib\\site-packages\\flask\\app.py\", line 1598, in dispatch_request\n",
      "    return self.view_functions[rule.endpoint](**req.view_args)\n",
      "TypeError: d() got an unexpected keyword argument 'sd'\n",
      "127.0.0.1 - - [20/Nov/2017 09:36:31] \"GET /main/asdf HTTP/1.1\" 500 -\n",
      "[2017-11-20 09:36:31,994] ERROR in app: Exception on /main/asdf [GET]\n",
      "Traceback (most recent call last):\n",
      "  File \"D:\\AN\\lib\\site-packages\\flask\\app.py\", line 1982, in wsgi_app\n",
      "    response = self.full_dispatch_request()\n",
      "  File \"D:\\AN\\lib\\site-packages\\flask\\app.py\", line 1614, in full_dispatch_request\n",
      "    rv = self.handle_user_exception(e)\n",
      "  File \"D:\\AN\\lib\\site-packages\\flask\\app.py\", line 1517, in handle_user_exception\n",
      "    reraise(exc_type, exc_value, tb)\n",
      "  File \"D:\\AN\\lib\\site-packages\\flask\\_compat.py\", line 33, in reraise\n",
      "    raise value\n",
      "  File \"D:\\AN\\lib\\site-packages\\flask\\app.py\", line 1612, in full_dispatch_request\n",
      "    rv = self.dispatch_request()\n",
      "  File \"D:\\AN\\lib\\site-packages\\flask\\app.py\", line 1598, in dispatch_request\n",
      "    return self.view_functions[rule.endpoint](**req.view_args)\n",
      "TypeError: d() got an unexpected keyword argument 'sd'\n",
      "127.0.0.1 - - [20/Nov/2017 09:36:31] \"GET /main/asdf HTTP/1.1\" 500 -\n",
      "127.0.0.1 - - [20/Nov/2017 09:36:36] \"GET /main HTTP/1.1\" 200 -\n",
      "[2017-11-20 09:36:38,389] ERROR in app: Exception on /main/asdf [GET]\n",
      "Traceback (most recent call last):\n",
      "  File \"D:\\AN\\lib\\site-packages\\flask\\app.py\", line 1982, in wsgi_app\n",
      "    response = self.full_dispatch_request()\n",
      "  File \"D:\\AN\\lib\\site-packages\\flask\\app.py\", line 1614, in full_dispatch_request\n",
      "    rv = self.handle_user_exception(e)\n",
      "  File \"D:\\AN\\lib\\site-packages\\flask\\app.py\", line 1517, in handle_user_exception\n",
      "    reraise(exc_type, exc_value, tb)\n",
      "  File \"D:\\AN\\lib\\site-packages\\flask\\_compat.py\", line 33, in reraise\n",
      "    raise value\n",
      "  File \"D:\\AN\\lib\\site-packages\\flask\\app.py\", line 1612, in full_dispatch_request\n",
      "    rv = self.dispatch_request()\n",
      "  File \"D:\\AN\\lib\\site-packages\\flask\\app.py\", line 1598, in dispatch_request\n",
      "    return self.view_functions[rule.endpoint](**req.view_args)\n",
      "TypeError: d() got an unexpected keyword argument 'sd'\n",
      "127.0.0.1 - - [20/Nov/2017 09:36:38] \"GET /main/asdf HTTP/1.1\" 500 -\n",
      "[2017-11-20 09:36:41,132] ERROR in app: Exception on /main/a [GET]\n",
      "Traceback (most recent call last):\n",
      "  File \"D:\\AN\\lib\\site-packages\\flask\\app.py\", line 1982, in wsgi_app\n",
      "    response = self.full_dispatch_request()\n",
      "  File \"D:\\AN\\lib\\site-packages\\flask\\app.py\", line 1614, in full_dispatch_request\n",
      "    rv = self.handle_user_exception(e)\n",
      "  File \"D:\\AN\\lib\\site-packages\\flask\\app.py\", line 1517, in handle_user_exception\n",
      "    reraise(exc_type, exc_value, tb)\n",
      "  File \"D:\\AN\\lib\\site-packages\\flask\\_compat.py\", line 33, in reraise\n",
      "    raise value\n",
      "  File \"D:\\AN\\lib\\site-packages\\flask\\app.py\", line 1612, in full_dispatch_request\n",
      "    rv = self.dispatch_request()\n",
      "  File \"D:\\AN\\lib\\site-packages\\flask\\app.py\", line 1598, in dispatch_request\n",
      "    return self.view_functions[rule.endpoint](**req.view_args)\n",
      "TypeError: d() got an unexpected keyword argument 'sd'\n",
      "127.0.0.1 - - [20/Nov/2017 09:36:41] \"GET /main/a HTTP/1.1\" 500 -\n",
      "127.0.0.1 - - [20/Nov/2017 09:36:44] \"GET /main HTTP/1.1\" 200 -\n"
     ]
    }
   ],
   "source": [
    "from flask import Flask\n",
    "app = Flask(__name__)\n",
    "\n",
    "@app.route('/main')\n",
    "def world():\n",
    "    return \"\"\"<h1>HELLO LAS'S WORLD</h1>\n",
    "    <h2><font face=\"돋움\">잉야야야ㅑ양ㅇ</font></h2>\"\"\"\n",
    "@app.route('/main/<sd>')\n",
    "def d():\n",
    "    return \"\"\"<h2><font face=\"돋움\">\"\"\"+sd+\"\"\" is fool</font></h2>\"\"\"\n",
    "if __name__ == '__main__':\n",
    "    app.run()"
   ]
  },
  {
   "cell_type": "code",
   "execution_count": null,
   "metadata": {
    "collapsed": true
   },
   "outputs": [],
   "source": []
  }
 ],
 "metadata": {
  "kernelspec": {
   "display_name": "Python 3",
   "language": "python",
   "name": "python3"
  },
  "language_info": {
   "codemirror_mode": {
    "name": "ipython",
    "version": 3
   },
   "file_extension": ".py",
   "mimetype": "text/x-python",
   "name": "python",
   "nbconvert_exporter": "python",
   "pygments_lexer": "ipython3",
   "version": "3.6.3"
  }
 },
 "nbformat": 4,
 "nbformat_minor": 2
}
