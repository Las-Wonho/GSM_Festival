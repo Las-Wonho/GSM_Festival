{
 "cells": [
  {
   "cell_type": "code",
   "execution_count": 2,
   "metadata": {},
   "outputs": [
    {
     "name": "stdout",
     "output_type": "stream",
     "text": [
      "씨받 해냈다ㅌㅊㅌㅊㅇㄴㄿㅇㄿㅌㅊㅌㅊ\n"
     ]
    }
   ],
   "source": [
    "console.log(\"씨받 해냈다ㅌㅊㅌㅊㅇㄴㄿㅇㄿㅌㅊㅌㅊ\");"
   ]
  },
  {
   "cell_type": "code",
   "execution_count": null,
   "metadata": {
    "collapsed": true
   },
   "outputs": [],
   "source": []
  }
 ],
 "metadata": {
  "kernelspec": {
   "display_name": "Javascript (Node.js)",
   "language": "javascript",
   "name": "javascript"
  },
  "language_info": {
   "file_extension": ".js",
   "mimetype": "application/javascript",
   "name": "javascript",
   "version": "6.10.3"
  }
 },
 "nbformat": 4,
 "nbformat_minor": 2
}
