{
 "cells": [
  {
   "cell_type": "code",
   "execution_count": 16,
   "metadata": {
    "collapsed": true
   },
   "outputs": [],
   "source": [
    "from selenium import webdriver"
   ]
  },
  {
   "cell_type": "code",
   "execution_count": 17,
   "metadata": {
    "collapsed": true
   },
   "outputs": [],
   "source": [
    "driver_Path=\"C:/Users/haho6/Desktop/WEB/Node/chromedriver.exe\"\n",
    "driver = webdriver.Chrome(driver_Path)\n",
    "driver.implicitly_wait(3)"
   ]
  },
  {
   "cell_type": "code",
   "execution_count": 18,
   "metadata": {
    "collapsed": true
   },
   "outputs": [],
   "source": [
    "Lonin_First=\"https://accounts.kakao.com/login?continue=https://center-pf.kakao.com/signup\"\n",
    "driver.get(Lonin_First)"
   ]
  },
  {
   "cell_type": "code",
   "execution_count": 19,
   "metadata": {
    "collapsed": true
   },
   "outputs": [],
   "source": [
    "ID=\"haho6629@gmail.com\"\n",
    "PW=\"gkgh6644\"\n",
    "driver.find_element_by_name('email').send_keys(ID)\n",
    "driver.find_element_by_name('password').send_keys(PW)"
   ]
  },
  {
   "cell_type": "code",
   "execution_count": 20,
   "metadata": {
    "collapsed": true
   },
   "outputs": [],
   "source": [
    "driver.find_element_by_id('btn_login').click()"
   ]
  },
  {
   "cell_type": "code",
   "execution_count": 21,
   "metadata": {
    "collapsed": true
   },
   "outputs": [],
   "source": [
    "driver.find_element_by_class_name('link_plus').click()"
   ]
  },
  {
   "cell_type": "code",
   "execution_count": 22,
   "metadata": {
    "collapsed": true
   },
   "outputs": [],
   "source": [
    "driver.find_element_by_xpath('//*[@id=\"mSnb\"]/div/ul/li[2]/a').click()"
   ]
  },
  {
   "cell_type": "code",
   "execution_count": 23,
   "metadata": {
    "collapsed": true
   },
   "outputs": [],
   "source": [
    "driver.find_element_by_class_name('''btn_g2''').click()"
   ]
  },
  {
   "cell_type": "code",
   "execution_count": 24,
   "metadata": {},
   "outputs": [
    {
     "name": "stdout",
     "output_type": "stream",
     "text": [
      "0 is notting 1 is image 2 is video\n",
      "1\n"
     ]
    }
   ],
   "source": [
    "content=input(\"0 is notting 1 is image 2 is video\\r\\n\")"
   ]
  },
  {
   "cell_type": "code",
   "execution_count": 25,
   "metadata": {
    "collapsed": true
   },
   "outputs": [],
   "source": [
    "if(content==\"0\"):\n",
    "    driver.find_element_by_xpath('//*[@id=\"mArticle\"]/div/form/div[1]/div[1]/div[2]/div[1]/div/label').click()\n",
    "if(content==\"1\"):\n",
    "    driver.find_element_by_xpath('//*[@id=\"mArticle\"]/div/form/div[1]/div[1]/div[2]/div/div[2]/label').click()\n",
    "    driver.find_element_by_xpath('//*[@id=\"mArticle\"]/div/form/div[1]/div[1]/div[2]/div[2]/div[2]/input').send_keys('C:/Users/haho6/Desktop/pic/14.jpg')\n",
    "if(content==\"2\"):\n",
    "    driver.find_element_by_xpath('//*[@id=\"mArticle\"]/div/form/div[1]/div[1]/div[2]/div/div[3]/label').click()"
   ]
  },
  {
   "cell_type": "code",
   "execution_count": 26,
   "metadata": {},
   "outputs": [
    {
     "name": "stdout",
     "output_type": "stream",
     "text": [
      "SEND MESSAGE태스트\n"
     ]
    }
   ],
   "source": [
    "send=input(\"SEND MESSAGE\")\n",
    "driver.find_element_by_name('messageWrite').send_keys(send)"
   ]
  },
  {
   "cell_type": "code",
   "execution_count": 27,
   "metadata": {},
   "outputs": [
    {
     "name": "stdout",
     "output_type": "stream",
     "text": [
      "링크 개수0\n"
     ]
    }
   ],
   "source": [
    "link_num=int(input(\"링크 개수\"))\n",
    "for i in range(0,link_num):\n",
    "    lnk=input(str(i+1)+\"번째 링크 주소.\")\n",
    "    lname=input(str(i+1)+\"번째 링크 이름.\")\n",
    "    print(\"\\r\\n\")\n",
    "    driver.find_element_by_xpath('//*[@id=\"mArticle\"]/div/form/div[1]/div[1]/div['+str(i+4)+']/div/div[4]/label').click()\n",
    "    driver.find_elements_by_id('linkUpload')[i].send_keys(lnk)\n",
    "    driver.find_elements_by_id('btnName')[i].send_keys(lname)"
   ]
  },
  {
   "cell_type": "code",
   "execution_count": 28,
   "metadata": {
    "collapsed": true
   },
   "outputs": [],
   "source": [
    "driver.find_element_by_xpath('//*[@id=\"mArticle\"]/div/form/div[2]/span/button[2]').click()"
   ]
  },
  {
   "cell_type": "code",
   "execution_count": 29,
   "metadata": {},
   "outputs": [
    {
     "name": "stdout",
     "output_type": "stream",
     "text": [
      "정말 보내겠습니까?5\n"
     ]
    }
   ],
   "source": [
    "input(\"정말 보내겠습니까?\")\n",
    "driver.find_element_by_xpath('//*[@id=\"mArticle\"]/div/form/div[2]/button[4]').click()"
   ]
  },
  {
   "cell_type": "code",
   "execution_count": 30,
   "metadata": {
    "collapsed": true
   },
   "outputs": [],
   "source": [
    "driver.find_element_by_xpath('/html/body/div[3]/div/div[2]/div/div/div[2]/button[2]').click()"
   ]
  },
  {
   "cell_type": "code",
   "execution_count": 31,
   "metadata": {
    "collapsed": true
   },
   "outputs": [],
   "source": [
    "driver.stop_client()"
   ]
  },
  {
   "cell_type": "code",
   "execution_count": null,
   "metadata": {
    "collapsed": true
   },
   "outputs": [],
   "source": []
  },
  {
   "cell_type": "code",
   "execution_count": null,
   "metadata": {
    "collapsed": true
   },
   "outputs": [],
   "source": []
  },
  {
   "cell_type": "code",
   "execution_count": null,
   "metadata": {
    "collapsed": true
   },
   "outputs": [],
   "source": []
  }
 ],
 "metadata": {
  "kernelspec": {
   "display_name": "Python 3",
   "language": "python",
   "name": "python3"
  },
  "language_info": {
   "codemirror_mode": {
    "name": "ipython",
    "version": 3
   },
   "file_extension": ".py",
   "mimetype": "text/x-python",
   "name": "python",
   "nbconvert_exporter": "python",
   "pygments_lexer": "ipython3",
   "version": "3.6.3"
  }
 },
 "nbformat": 4,
 "nbformat_minor": 2
}
