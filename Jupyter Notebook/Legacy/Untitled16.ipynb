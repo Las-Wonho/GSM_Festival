{
 "cells": [
  {
   "cell_type": "markdown",
   "metadata": {},
   "source": [
    "<h1>pysical</h1>"
   ]
  },
  {
   "cell_type": "markdown",
   "metadata": {},
   "source": [
    "<h2>light reflect</h2>\n",
    "<h2>\n",
    "<font face='CentSchbook BT'>\n",
    "전반사 조건 : 빛이 굴절률이 큰 곳에서 작은쪽으로 이동하고, 입사각이 임계각보다 커야한다.\n",
    "</font>\n",
    "</h2>"
   ]
  },
  {
   "cell_type": "markdown",
   "metadata": {},
   "source": [
    "<h2>light list to distense<h2>\n",
    "<ol>\n",
    "<li>라디오파\n",
    "<ol>\n",
    "<li>마이크로파보다 파장이 긴 파동이다. 주로 전파라고 부르며, 회절이 잘된다.</li>\n",
    "<li>TV,라디오에서 사용함</li>\n",
    "</ol>\n",
    "</li>\n",
    "<li>마이크로파\n",
    "<ol>\n",
    "<li>적외선보다 파장이 긴 파동이다. 물의 고유진동수와 비슷하다.</li>\n",
    "<li>전자레인지와 통신에서 사용함</li>\n",
    "</ol>\n",
    "</li>\n",
    "<li>적외선\n",
    "<ol>\n",
    "<li>가시광선보다 파장이 긴 빛으로, 열을 전달하는 성질을 갖고있다. 열을 가진 물체에서 방출한다.</li>\n",
    "<li>적외선 센서, 열 감지 카메라에서 사용함</li>\n",
    "</ol>\n",
    "</li>\n",
    "<li>가시광선\n",
    "<ol>\n",
    "<li>사람의 시신경에 자극을 주며, 우리가 볼 수 있는 빛이다.</li>\n",
    "<li>디스플레이에 사용함</li>\n",
    "</ol>\n",
    "</li>\n",
    "<li>자외선\n",
    "<ol>\n",
    "<li>사람의 피부를 그을리거나 미생물을 파괴하며, 비타민 D를 생성해 낼수있으며, 가시광선보다 파장이 짧고 에너지를 더 많이 가지고있다.</li>\n",
    "<li>자외선 살균기로 사용</li>\n",
    "</ol>\n",
    "</li>\n",
    "<li>X선\n",
    "<ol>\n",
    "<li>음극선관 실험을 하다 발견되었으며 자외선보다 파장이 짧으며, 더 많은 에너지를 갖고있다. 따라서 여러 종이나 살 같은 물체를 통과할 수 있다.</li>\n",
    "<li>공항에서 탐색할 때,의료용 사진을 찍을 때 사용함</li>\n",
    "</ol>\n",
    "</li>\n",
    "<li>감마선\n",
    "<ol>\n",
    "<li>주로 원자핵이 분열하면서 방출된다. 에너지가 매우 높으며, 유전자를 변형시킬 에너지를 갖고있다. 물체를 아주 잘 통과한다.</li>\n",
    "<li>암 치료와 우주를 관찰할 때 사용함</li>\n",
    "</ol>\n",
    "</li>\n",
    "<lo>"
   ]
  },
  {
   "cell_type": "markdown",
   "metadata": {},
   "source": [
    "<h1>frequency</h1>\n",
    "<h2>\n",
    "<ol>\n",
    "<li>HIGH\n",
    "<ol>\n",
    "<li>축전기 직렬</li>\n",
    "<li>코일 병렬</li>\n",
    "</ol>\n",
    "</li>\n",
    "<li>LOW\n",
    "<ol>\n",
    "<li>축전기 병렬</li>\n",
    "<li>코일 직렬</li>\n",
    "</ol>\n",
    "</li>\n",
    "</ol>\n",
    "</h2>\n",
    "<ol>"
   ]
  }
 ],
 "metadata": {
  "kernelspec": {
   "display_name": "Python 3",
   "language": "python",
   "name": "python3"
  },
  "language_info": {
   "codemirror_mode": {
    "name": "ipython",
    "version": 3
   },
   "file_extension": ".py",
   "mimetype": "text/x-python",
   "name": "python",
   "nbconvert_exporter": "python",
   "pygments_lexer": "ipython3",
   "version": "3.6.3"
  }
 },
 "nbformat": 4,
 "nbformat_minor": 2
}
